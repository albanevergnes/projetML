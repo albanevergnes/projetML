{
 "cells": [
  {
   "cell_type": "code",
   "execution_count": 36,
   "metadata": {},
   "outputs": [],
   "source": [
    "import pandas as pd\n",
    "import numpy as np\n",
    "import matplotlib.pyplot as plt\n",
    "from sklearn.model_selection import train_test_split  \n",
    "from sklearn.preprocessing import StandardScaler  \n",
    "from sklearn import linear_model\n",
    "from sklearn.metrics import mean_squared_error, r2_score\n",
    "from sklearn.linear_model import LinearRegression"
   ]
  },
  {
   "cell_type": "code",
   "execution_count": 21,
   "metadata": {},
   "outputs": [
    {
     "name": "stdout",
     "output_type": "stream",
     "text": [
      "   Age  Gender  Weight (kg)  Height (m)  Max_BPM  Avg_BPM  Resting_BPM  \\\n",
      "0   56    Male         88.3        1.71      180      157           60   \n",
      "1   46  Female         74.9        1.53      179      151           66   \n",
      "2   32  Female         68.1        1.66      167      122           54   \n",
      "3   25    Male         53.2        1.70      190      164           56   \n",
      "4   38    Male         46.1        1.79      188      158           68   \n",
      "\n",
      "   Calories_Burned Workout_Type  Fat_Percentage Experience_Level       BMI  \\\n",
      "0           1313.0         Yoga            12.6                3  5.495453   \n",
      "1            883.0         HIIT            33.9                2  5.656854   \n",
      "2            677.0       Cardio            33.4                2  4.970915   \n",
      "3            532.0     Strength            28.8                1  4.290688   \n",
      "4            556.0     Strength            29.2                1  3.793415   \n",
      "\n",
      "  Workout_Frequency  Session_Duration  Water_Intake  \n",
      "0                 4              1.69           3.5  \n",
      "1                 4              1.30           2.1  \n",
      "2                 4              1.11           2.3  \n",
      "3                 3              0.59           2.1  \n",
      "4                 3              0.64           2.8  \n",
      "               Age Gender  Weight (kg)  Height (m)     Max_BPM     Avg_BPM  \\\n",
      "count   973.000000    973   973.000000   973.00000  973.000000  973.000000   \n",
      "unique         NaN      2          NaN         NaN         NaN         NaN   \n",
      "top            NaN   Male          NaN         NaN         NaN         NaN   \n",
      "freq           NaN    511          NaN         NaN         NaN         NaN   \n",
      "mean     38.683453    NaN    73.854676     1.72258  179.883864  143.766701   \n",
      "std      12.180928    NaN    21.207500     0.12772   11.525686   14.345101   \n",
      "min      18.000000    NaN    40.000000     1.50000  160.000000  120.000000   \n",
      "25%      28.000000    NaN    58.100000     1.62000  170.000000  131.000000   \n",
      "50%      40.000000    NaN    70.000000     1.71000  180.000000  143.000000   \n",
      "75%      49.000000    NaN    86.000000     1.80000  190.000000  156.000000   \n",
      "max      59.000000    NaN   129.900000     2.00000  199.000000  169.000000   \n",
      "\n",
      "        Resting_BPM  Calories_Burned Workout_Type  Fat_Percentage  \\\n",
      "count    973.000000       973.000000          973      973.000000   \n",
      "unique          NaN              NaN            4             NaN   \n",
      "top             NaN              NaN     Strength             NaN   \n",
      "freq            NaN              NaN          258             NaN   \n",
      "mean      62.223022       905.422405          NaN       24.976773   \n",
      "std        7.327060       272.641516          NaN        6.259419   \n",
      "min       50.000000       303.000000          NaN       10.000000   \n",
      "25%       56.000000       720.000000          NaN       21.300000   \n",
      "50%       62.000000       893.000000          NaN       26.200000   \n",
      "75%       68.000000      1076.000000          NaN       29.300000   \n",
      "max       74.000000      1783.000000          NaN       35.000000   \n",
      "\n",
      "        Experience_Level         BMI  Workout_Frequency  Session_Duration  \\\n",
      "count              973.0  973.000000              973.0        973.000000   \n",
      "unique               3.0         NaN                4.0               NaN   \n",
      "top                  2.0         NaN                3.0               NaN   \n",
      "freq               406.0         NaN              368.0               NaN   \n",
      "mean                 NaN    4.948229                NaN          1.256423   \n",
      "std                  NaN    0.653910                NaN          0.343033   \n",
      "min                  NaN    3.509986                NaN          0.500000   \n",
      "25%                  NaN    4.484417                NaN          1.040000   \n",
      "50%                  NaN    4.915282                NaN          1.260000   \n",
      "75%                  NaN    5.344156                NaN          1.460000   \n",
      "max                  NaN    7.059745                NaN          2.000000   \n",
      "\n",
      "        Water_Intake  \n",
      "count     973.000000  \n",
      "unique           NaN  \n",
      "top              NaN  \n",
      "freq             NaN  \n",
      "mean        2.626619  \n",
      "std         0.600172  \n",
      "min         1.500000  \n",
      "25%         2.200000  \n",
      "50%         2.600000  \n",
      "75%         3.100000  \n",
      "max         3.700000  \n"
     ]
    }
   ],
   "source": [
    "# Chargement des données\n",
    "\n",
    "Gym = pd.read_csv(\"Donnees_projet.csv\")\n",
    "\n",
    "# Conversion des colonnes en catégories (équivalent à factor en R)\n",
    "Gym['Gender'] = Gym['Gender'].astype('category')\n",
    "Gym['Workout_Type'] = Gym['Workout_Type'].astype('category')\n",
    "Gym['Workout_Frequency'] = Gym['Workout_Frequency (days/week)'].astype('category')\n",
    "Gym['Experience_Level'] = Gym['Experience_Level'].astype('category')\n",
    "\n",
    "# Renommage des colonnes pour simplifier l'accès\n",
    "Gym['Session_Duration'] = Gym['Session_Duration (hours)']\n",
    "Gym['Water_Intake'] = Gym['Water_Intake (liters)']\n",
    "\n",
    "Gym[\"BMI\"]=Gym[\"BMI\"].map(lambda x: np.sqrt(x))\n",
    "\n",
    "# Sélection des colonnes d'intérêt\n",
    "Gym = Gym.iloc[:, [0, 1, 2, 3, 4, 5, 6, 8, 9, 10, 13, 14, 15, 16, 17]]\n",
    "\n",
    "# Affichage des premières lignes et résumé statistique\n",
    "print(Gym.head())\n",
    "print(Gym.describe(include='all'))"
   ]
  },
  {
   "cell_type": "code",
   "execution_count": 54,
   "metadata": {},
   "outputs": [
    {
     "data": {
      "text/html": [
       "<div>\n",
       "<style scoped>\n",
       "    .dataframe tbody tr th:only-of-type {\n",
       "        vertical-align: middle;\n",
       "    }\n",
       "\n",
       "    .dataframe tbody tr th {\n",
       "        vertical-align: top;\n",
       "    }\n",
       "\n",
       "    .dataframe thead th {\n",
       "        text-align: right;\n",
       "    }\n",
       "</style>\n",
       "<table border=\"1\" class=\"dataframe\">\n",
       "  <thead>\n",
       "    <tr style=\"text-align: right;\">\n",
       "      <th></th>\n",
       "      <th>Gender_Female</th>\n",
       "      <th>Gender_Male</th>\n",
       "      <th>Workout_Type_HIIT</th>\n",
       "      <th>Workout_Type_Strength</th>\n",
       "      <th>Workout_Type_Yoga</th>\n",
       "      <th>Experience_Level_2</th>\n",
       "      <th>Experience_Level_3</th>\n",
       "      <th>Workout_Frequency_3</th>\n",
       "      <th>Workout_Frequency_4</th>\n",
       "      <th>Workout_Frequency_5</th>\n",
       "      <th>Age</th>\n",
       "      <th>Weight (kg)</th>\n",
       "      <th>Height (m)</th>\n",
       "      <th>Max_BPM</th>\n",
       "      <th>Avg_BPM</th>\n",
       "      <th>Resting_BPM</th>\n",
       "      <th>Fat_Percentage</th>\n",
       "      <th>BMI</th>\n",
       "      <th>Session_Duration</th>\n",
       "      <th>Water_Intake</th>\n",
       "    </tr>\n",
       "  </thead>\n",
       "  <tbody>\n",
       "    <tr>\n",
       "      <th>0</th>\n",
       "      <td>False</td>\n",
       "      <td>True</td>\n",
       "      <td>False</td>\n",
       "      <td>False</td>\n",
       "      <td>True</td>\n",
       "      <td>False</td>\n",
       "      <td>True</td>\n",
       "      <td>False</td>\n",
       "      <td>True</td>\n",
       "      <td>False</td>\n",
       "      <td>56</td>\n",
       "      <td>88.3</td>\n",
       "      <td>1.71</td>\n",
       "      <td>180</td>\n",
       "      <td>157</td>\n",
       "      <td>60</td>\n",
       "      <td>12.6</td>\n",
       "      <td>5.495453</td>\n",
       "      <td>1.69</td>\n",
       "      <td>3.5</td>\n",
       "    </tr>\n",
       "    <tr>\n",
       "      <th>1</th>\n",
       "      <td>True</td>\n",
       "      <td>False</td>\n",
       "      <td>True</td>\n",
       "      <td>False</td>\n",
       "      <td>False</td>\n",
       "      <td>True</td>\n",
       "      <td>False</td>\n",
       "      <td>False</td>\n",
       "      <td>True</td>\n",
       "      <td>False</td>\n",
       "      <td>46</td>\n",
       "      <td>74.9</td>\n",
       "      <td>1.53</td>\n",
       "      <td>179</td>\n",
       "      <td>151</td>\n",
       "      <td>66</td>\n",
       "      <td>33.9</td>\n",
       "      <td>5.656854</td>\n",
       "      <td>1.30</td>\n",
       "      <td>2.1</td>\n",
       "    </tr>\n",
       "    <tr>\n",
       "      <th>2</th>\n",
       "      <td>True</td>\n",
       "      <td>False</td>\n",
       "      <td>False</td>\n",
       "      <td>False</td>\n",
       "      <td>False</td>\n",
       "      <td>True</td>\n",
       "      <td>False</td>\n",
       "      <td>False</td>\n",
       "      <td>True</td>\n",
       "      <td>False</td>\n",
       "      <td>32</td>\n",
       "      <td>68.1</td>\n",
       "      <td>1.66</td>\n",
       "      <td>167</td>\n",
       "      <td>122</td>\n",
       "      <td>54</td>\n",
       "      <td>33.4</td>\n",
       "      <td>4.970915</td>\n",
       "      <td>1.11</td>\n",
       "      <td>2.3</td>\n",
       "    </tr>\n",
       "    <tr>\n",
       "      <th>3</th>\n",
       "      <td>False</td>\n",
       "      <td>True</td>\n",
       "      <td>False</td>\n",
       "      <td>True</td>\n",
       "      <td>False</td>\n",
       "      <td>False</td>\n",
       "      <td>False</td>\n",
       "      <td>True</td>\n",
       "      <td>False</td>\n",
       "      <td>False</td>\n",
       "      <td>25</td>\n",
       "      <td>53.2</td>\n",
       "      <td>1.70</td>\n",
       "      <td>190</td>\n",
       "      <td>164</td>\n",
       "      <td>56</td>\n",
       "      <td>28.8</td>\n",
       "      <td>4.290688</td>\n",
       "      <td>0.59</td>\n",
       "      <td>2.1</td>\n",
       "    </tr>\n",
       "    <tr>\n",
       "      <th>4</th>\n",
       "      <td>False</td>\n",
       "      <td>True</td>\n",
       "      <td>False</td>\n",
       "      <td>True</td>\n",
       "      <td>False</td>\n",
       "      <td>False</td>\n",
       "      <td>False</td>\n",
       "      <td>True</td>\n",
       "      <td>False</td>\n",
       "      <td>False</td>\n",
       "      <td>38</td>\n",
       "      <td>46.1</td>\n",
       "      <td>1.79</td>\n",
       "      <td>188</td>\n",
       "      <td>158</td>\n",
       "      <td>68</td>\n",
       "      <td>29.2</td>\n",
       "      <td>3.793415</td>\n",
       "      <td>0.64</td>\n",
       "      <td>2.8</td>\n",
       "    </tr>\n",
       "  </tbody>\n",
       "</table>\n",
       "</div>"
      ],
      "text/plain": [
       "   Gender_Female  Gender_Male  Workout_Type_HIIT  Workout_Type_Strength  \\\n",
       "0          False         True              False                  False   \n",
       "1           True        False               True                  False   \n",
       "2           True        False              False                  False   \n",
       "3          False         True              False                   True   \n",
       "4          False         True              False                   True   \n",
       "\n",
       "   Workout_Type_Yoga  Experience_Level_2  Experience_Level_3  \\\n",
       "0               True               False                True   \n",
       "1              False                True               False   \n",
       "2              False                True               False   \n",
       "3              False               False               False   \n",
       "4              False               False               False   \n",
       "\n",
       "   Workout_Frequency_3  Workout_Frequency_4  Workout_Frequency_5  Age  \\\n",
       "0                False                 True                False   56   \n",
       "1                False                 True                False   46   \n",
       "2                False                 True                False   32   \n",
       "3                 True                False                False   25   \n",
       "4                 True                False                False   38   \n",
       "\n",
       "   Weight (kg)  Height (m)  Max_BPM  Avg_BPM  Resting_BPM  Fat_Percentage  \\\n",
       "0         88.3        1.71      180      157           60            12.6   \n",
       "1         74.9        1.53      179      151           66            33.9   \n",
       "2         68.1        1.66      167      122           54            33.4   \n",
       "3         53.2        1.70      190      164           56            28.8   \n",
       "4         46.1        1.79      188      158           68            29.2   \n",
       "\n",
       "        BMI  Session_Duration  Water_Intake  \n",
       "0  5.495453              1.69           3.5  \n",
       "1  5.656854              1.30           2.1  \n",
       "2  4.970915              1.11           2.3  \n",
       "3  4.290688              0.59           2.1  \n",
       "4  3.793415              0.64           2.8  "
      ]
     },
     "execution_count": 54,
     "metadata": {},
     "output_type": "execute_result"
    }
   ],
   "source": [
    "GymDum=pd.get_dummies(Gym[[\"Gender\",\"Workout_Type\",\"Experience_Level\",\"Workout_Frequency\"]])\n",
    "GymDum = GymDum.drop(columns=[\"Workout_Type_Cardio\",\"Experience_Level_1\",\"Workout_Frequency_2\"])\n",
    "\n",
    "GymQuant= Gym.select_dtypes(include=['int64', 'float64'])\n",
    "dfC=pd.concat([GymDum,GymQuant],axis=1)\n",
    "dfC=dfC.drop(columns=[\"Calories_Burned\"])\n",
    "dfC.head()"
   ]
  },
  {
   "cell_type": "code",
   "execution_count": 55,
   "metadata": {},
   "outputs": [
    {
     "data": {
      "image/png": "[encoded data removed]",
      "text/plain": [
       "<Figure size 640x480 with 1 Axes>"
      ]
     },
     "metadata": {},
     "output_type": "display_data"
    }
   ],
   "source": [
    "# variable à expliquer réelle\n",
    "Y=Gym[\"Calories_Burned\"]\n",
    "Y.hist()\n",
    "plt.show()"
   ]
  },
  {
   "cell_type": "code",
   "execution_count": 56,
   "metadata": {},
   "outputs": [],
   "source": [
    "X_train,X_test,Y_train,Y_test=train_test_split(dfC,Y,test_size=0.2,random_state=11)"
   ]
  },
  {
   "cell_type": "code",
   "execution_count": 57,
   "metadata": {},
   "outputs": [],
   "source": [
    "# L'algorithme des réseaux de neurones nécessite éventuellement une normalisation \n",
    "# des variables explicatives avec les commandes ci-dessous\n",
    "scaler = StandardScaler()  \n",
    "scaler.fit(X_train)  \n",
    "Xr_train = scaler.transform(X_train)  \n",
    "# Meme transformation sur le test\n",
    "Xr_test = scaler.transform(X_test)"
   ]
  },
  {
   "cell_type": "markdown",
   "metadata": {},
   "source": [
    "## 1)Modèle linéaire gaussien\n"
   ]
  },
  {
   "cell_type": "markdown",
   "metadata": {},
   "source": [
    "### a)Sans Pénalisation"
   ]
  },
  {
   "cell_type": "code",
   "execution_count": 60,
   "metadata": {},
   "outputs": [
    {
     "name": "stdout",
     "output_type": "stream",
     "text": [
      "MSE = 1594.548388641241\n",
      "R2= 0.981270858546351\n"
     ]
    },
    {
     "data": {
      "text/plain": [
       "array([-1.98101844e+01,  1.98101844e+01, -1.15702484e+00, -9.05431812e-01,\n",
       "       -3.97172004e+00,  1.05853930e-01, -6.55350961e+00, -5.12716545e-01,\n",
       "        7.67670105e-01,  3.07403941e+00, -4.13218261e+01, -2.72376054e+01,\n",
       "        1.68907051e+01, -3.71065334e-01,  9.00470121e+01,  2.25548839e+00,\n",
       "       -4.13887976e+00,  2.82090813e+01,  2.43045761e+02, -2.43219251e-01])"
      ]
     },
     "execution_count": 60,
     "metadata": {},
     "output_type": "execute_result"
    }
   ],
   "source": [
    "# Régression linéaire sans pénalisation\n",
    "regLin = LinearRegression()\n",
    "regLin.fit(Xr_train, Y_train)\n",
    "\n",
    "# Prédiction sur les données de test\n",
    "prev = regLin.predict(Xr_test)\n",
    "\n",
    "# Calcul de l'erreur quadratique moyenne (MSE)\n",
    "print(\"MSE =\", mean_squared_error(Y_test, prev))\n",
    "print(\"R2=\",r2_score(Y_test,prev))\n",
    "regLin.coef_"
   ]
  },
  {
   "cell_type": "code",
   "execution_count": 59,
   "metadata": {},
   "outputs": [
    {
     "data": {
      "image/png": "[encoded data removed]",
      "text/plain": [
       "<Figure size 640x480 with 1 Axes>"
      ]
     },
     "metadata": {},
     "output_type": "display_data"
    }
   ],
   "source": [
    "# Calcul des résidus\n",
    "residus = Y_test - prev\n",
    "\n",
    "# Tracé du graphe des résidus\n",
    "plt.scatter(prev, residus, color='purple')\n",
    "plt.axhline(y=0, color='red', linestyle='--')  # Ligne horizontale à y=0\n",
    "plt.xlabel(\"Valeurs prédites\")\n",
    "plt.ylabel(\"Résidus\")\n",
    "plt.title(\"Graphe des résidus (Valeurs prédites vs Résidus)\")\n",
    "\n",
    "plt.ylim(min(residus) - 1, max(residus) + 1) \n",
    "plt.grid(True)\n",
    "plt.show()"
   ]
  },
  {
   "cell_type": "markdown",
   "metadata": {},
   "source": [
    "### b)Avec Pénalisation"
   ]
  },
  {
   "cell_type": "code",
   "execution_count": 64,
   "metadata": {},
   "outputs": [
    {
     "name": "stdout",
     "output_type": "stream",
     "text": [
      "Meilleur R2 = 0.977536, Meilleur paramètre = {'alpha': 1.2}\n"
     ]
    }
   ],
   "source": [
    "from sklearn.model_selection import GridSearchCV\n",
    "# grille de valeurs du paramètre alpha à optimiser\n",
    "param=[{\"alpha\":[0.05,0.1,0.2,0.3,0.4,0.5,1,1.2,1.3,1.4,1.5,1.6,1.7,1.8,3,4]}]\n",
    "regLasso = GridSearchCV(linear_model.Lasso(), param,cv=5,n_jobs=-1)\n",
    "regLassOpt=regLasso.fit(Xr_train, Y_train)\n",
    "# paramètre optimal\n",
    "regLassOpt.best_params_[\"alpha\"]\n",
    "print(\"Meilleur R2 = %f, Meilleur paramètre = %s\" % (regLassOpt.best_score_,regLassOpt.best_params_))"
   ]
  }
 ],
 "metadata": {
  "kernelspec": {
   "display_name": "base",
   "language": "python",
   "name": "python3"
  },
  "language_info": {
   "codemirror_mode": {
    "name": "ipython",
    "version": 3
   },
   "file_extension": ".py",
   "mimetype": "text/x-python",
   "name": "python",
   "nbconvert_exporter": "python",
   "pygments_lexer": "ipython3",
   "version": "3.12.4"
  }
 },
 "nbformat": 4,
 "nbformat_minor": 2
}
